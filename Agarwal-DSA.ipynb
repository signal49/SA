{
 "cells": [
  {
   "cell_type": "code",
   "execution_count": null,
   "id": "2b3c5cde",
   "metadata": {},
   "outputs": [],
   "source": [
    "#Chap1 - Data Types and Structures"
   ]
  },
  {
   "cell_type": "code",
   "execution_count": 1,
   "id": "db57c3a4",
   "metadata": {},
   "outputs": [
    {
     "name": "stdout",
     "output_type": "stream",
     "text": [
      "<class 'bool'>\n"
     ]
    }
   ],
   "source": [
    "print(type(bool(22)))"
   ]
  },
  {
   "cell_type": "code",
   "execution_count": 3,
   "id": "09058cbd",
   "metadata": {},
   "outputs": [
    {
     "name": "stdout",
     "output_type": "stream",
     "text": [
      "<class 'bool'>\n",
      "<class 'bool'>\n"
     ]
    }
   ],
   "source": [
    "print(type(True))\n",
    "print(type(False))"
   ]
  },
  {
   "cell_type": "code",
   "execution_count": 4,
   "id": "8a7bc2cc",
   "metadata": {},
   "outputs": [
    {
     "name": "stdout",
     "output_type": "stream",
     "text": [
      "<class 'float'>\n"
     ]
    }
   ],
   "source": [
    "var = 3.2\n",
    "print(type(var))"
   ]
  },
  {
   "cell_type": "code",
   "execution_count": 5,
   "id": "173dab89",
   "metadata": {},
   "outputs": [
    {
     "name": "stdout",
     "output_type": "stream",
     "text": [
      "<class 'str'>\n"
     ]
    }
   ],
   "source": [
    "var2 = \"yoo\"\n",
    "print(type(var2))"
   ]
  },
  {
   "cell_type": "code",
   "execution_count": 8,
   "id": "234627ff",
   "metadata": {},
   "outputs": [
    {
     "name": "stdout",
     "output_type": "stream",
     "text": [
      "data structure\n"
     ]
    }
   ],
   "source": [
    "f = 'data'\n",
    "s = ' structure'\n",
    "print(f + s)"
   ]
  },
  {
   "cell_type": "code",
   "execution_count": 9,
   "id": "5e12391d",
   "metadata": {},
   "outputs": [
    {
     "name": "stdout",
     "output_type": "stream",
     "text": [
      "[0, 1, 2, 3, 4, 5, 6, 7, 8, 9]\n"
     ]
    }
   ],
   "source": [
    "#range(start, stop, step)\n",
    "'''\n",
    "The range data type represents an immutable sequence of numbers. It is mainly \n",
    "used in for and while loops. It returns a sequence of numbers starting from \n",
    "a given number up to a number\n",
    "specified by the function argument. It is used as in the following\n",
    "'''\n",
    "print(list(range(10)))"
   ]
  },
  {
   "cell_type": "code",
   "execution_count": 11,
   "id": "8776eaa7",
   "metadata": {},
   "outputs": [
    {
     "name": "stdout",
     "output_type": "stream",
     "text": [
      "[1, 2, 3, 4, 5, 6, 7, 8, 9, 10]\n"
     ]
    }
   ],
   "source": [
    "print(list(range(1,10+1,1)))"
   ]
  },
  {
   "cell_type": "code",
   "execution_count": 12,
   "id": "2d38f39f",
   "metadata": {},
   "outputs": [
    {
     "name": "stdout",
     "output_type": "stream",
     "text": [
      "[20, 18, 16, 14, 12]\n"
     ]
    }
   ],
   "source": [
    "print(list(range(20,10,-2)))"
   ]
  },
  {
   "cell_type": "code",
   "execution_count": null,
   "id": "b2dff2ee",
   "metadata": {},
   "outputs": [],
   "source": [
    "'''\n",
    "Lists\n",
    "Python lists are used to store multiple items in a single variable. Duplicate\n",
    "values are allowed in a list, and elements can be of different types: \n",
    "for example, you can have both numeric and string\n",
    "data in a Python list.\n",
    "'''"
   ]
  },
  {
   "cell_type": "code",
   "execution_count": 13,
   "id": "3d850853",
   "metadata": {},
   "outputs": [
    {
     "name": "stdout",
     "output_type": "stream",
     "text": [
      "['food', 'bus', 'apple', 'queen']\n",
      "India\n"
     ]
    }
   ],
   "source": [
    "a = ['food', 'bus', 'apple', 'queen']\n",
    "print(a)\n",
    "mylist = [10, \"India\", \"world\", 8]\n",
    "# accessing elements in list.\n",
    "print(mylist[1])"
   ]
  },
  {
   "cell_type": "code",
   "execution_count": 14,
   "id": "2b403c19",
   "metadata": {},
   "outputs": [
    {
     "name": "stdout",
     "output_type": "stream",
     "text": [
      "['data', 'and', 'book', 'structure', 'hello', 'st', 32]\n",
      "['data', 'and', 'structure', 'hello', 'st', 32]\n",
      "['and', 'structure', 'hello', 'st', 32]\n"
     ]
    }
   ],
   "source": [
    "b = ['data', 'and', 'book',\n",
    "'structure', 'hello', 'st']\n",
    "b += [32]\n",
    "print(b)\n",
    "b[2:3] = []\n",
    "print(b)\n",
    "del b[0]\n",
    "print(b)"
   ]
  },
  {
   "cell_type": "code",
   "execution_count": 15,
   "id": "c8a5b59d",
   "metadata": {},
   "outputs": [
    {
     "name": "stdout",
     "output_type": "stream",
     "text": [
      "data\n",
      "using\n",
      "learning\n",
      "structures\n",
      "['structures', 'using', 'python', 'happy']\n",
      "['python', 'happy']\n"
     ]
    }
   ],
   "source": [
    "a = ['data', 'structures',\n",
    "'using', 'python', 'happy',\n",
    "'learning']\n",
    "print(a[0])\n",
    "print(a[2])\n",
    "print(a[-1])\n",
    "print(a[-5])\n",
    "print(a[1:5])\n",
    "print(a[-3:-1])"
   ]
  },
  {
   "cell_type": "code",
   "execution_count": 16,
   "id": "fcc644b5",
   "metadata": {},
   "outputs": [
    {
     "name": "stdout",
     "output_type": "stream",
     "text": [
      "elements are not overlapping\n"
     ]
    }
   ],
   "source": [
    "mylist1 = [100,20,30,40]\n",
    "mylist2 = [10,50,60,90]\n",
    "if mylist1[1] in mylist2:\n",
    "    print(\"elements are overlapping\")\n",
    "else:\n",
    "    print(\"elements are not overlapping\")"
   ]
  },
  {
   "cell_type": "code",
   "execution_count": 17,
   "id": "453050e8",
   "metadata": {},
   "outputs": [
    {
     "name": "stdout",
     "output_type": "stream",
     "text": [
      "yoo, it's here\n"
     ]
    }
   ],
   "source": [
    "val = 104\n",
    "mylist = [100,104, 234]\n",
    "if val in mylist:\n",
    "    print(\"yoo, it's here\")\n",
    "else:\n",
    "    print(\"found nothing\")"
   ]
  },
  {
   "cell_type": "code",
   "execution_count": 19,
   "id": "46e183b2",
   "metadata": {},
   "outputs": [
    {
     "name": "stdout",
     "output_type": "stream",
     "text": [
      "Both are equal\n",
      "Both variables are not pointing to the same object\n",
      "Both are not pointing to the same object\n"
     ]
    }
   ],
   "source": [
    "Firstlist = []\n",
    "Secondlist = []\n",
    "\n",
    "if Firstlist == Secondlist:\n",
    "    print(\"Both are equal\")\n",
    "else:\n",
    "    print(\"Both are not equal\")\n",
    "\n",
    "if Firstlist is Secondlist:\n",
    "    print(\"Both variables are pointing to the same object\")\n",
    "else:\n",
    "    print(\"Both variables are not pointing to the same object\")\n",
    "\n",
    "    thirdList = Firstlist\n",
    "\n",
    "if thirdList is Secondlist:\n",
    "    print(\"Both are pointing to the same object\")\n",
    "else:\n",
    "    print(\"Both are not pointing to the same object\")"
   ]
  },
  {
   "cell_type": "code",
   "execution_count": 20,
   "id": "9dc3c95e",
   "metadata": {},
   "outputs": [
    {
     "name": "stdout",
     "output_type": "stream",
     "text": [
      "Both Firstlist and Secondlist variables are the same object\n"
     ]
    }
   ],
   "source": [
    "Firstlist = []\n",
    "Secondlist = []\n",
    "if Firstlist is not Secondlist:\n",
    "    print(\"Both Firstlist and Secondlist variables are the same object\")\n",
    "else:\n",
    "    print(\"Both Firstlist and Secondlist variables are not the same object\")"
   ]
  },
  {
   "cell_type": "code",
   "execution_count": 1,
   "id": "404c6b74",
   "metadata": {},
   "outputs": [
    {
     "name": "stdout",
     "output_type": "stream",
     "text": [
      "Both a and b are greater than zero\n"
     ]
    }
   ],
   "source": [
    "a = 32\n",
    "b = 132\n",
    "if a > 0 and b > 0:\n",
    "    print(\"Both a and b are greater than zero\")\n",
    "else:\n",
    "    print(\"At least one variable is less than 0\")"
   ]
  },
  {
   "cell_type": "code",
   "execution_count": null,
   "id": "8b6d7714",
   "metadata": {},
   "outputs": [],
   "source": [
    "'''\n",
    "Tuples are used to store multiple items in a single variable. It is a read-only \n",
    "collection where\n",
    "data is ordered (zero-based indexing) and unchangeable/immutable (items cannot \n",
    "be added,\n",
    "modified, removed). Duplicate values are allowed in a tuple, and elements can \n",
    "be of different\n",
    "types, similar to lists. Tuples are used instead of lists when we wish to store \n",
    "the data that should\n",
    "not be changed in the program.\n",
    "'''"
   ]
  },
  {
   "cell_type": "code",
   "execution_count": 2,
   "id": "e3da765b",
   "metadata": {},
   "outputs": [
    {
     "name": "stdout",
     "output_type": "stream",
     "text": [
      "('yoo', 'bro')\n"
     ]
    }
   ],
   "source": [
    "tuple_name = ('yoo', 'bro')\n",
    "print(tuple_name)"
   ]
  },
  {
   "cell_type": "code",
   "execution_count": 23,
   "id": "8fedeb67",
   "metadata": {},
   "outputs": [
    {
     "ename": "TypeError",
     "evalue": "'tuple' object does not support item assignment",
     "output_type": "error",
     "traceback": [
      "\u001b[1;31m---------------------------------------------------------------------------\u001b[0m",
      "\u001b[1;31mTypeError\u001b[0m                                 Traceback (most recent call last)",
      "Cell \u001b[1;32mIn[23], line 1\u001b[0m\n\u001b[1;32m----> 1\u001b[0m tuple_name[\u001b[38;5;241m0\u001b[39m] \u001b[38;5;241m=\u001b[39m \u001b[38;5;124m'\u001b[39m\u001b[38;5;124mmm\u001b[39m\u001b[38;5;124m'\u001b[39m\n",
      "\u001b[1;31mTypeError\u001b[0m: 'tuple' object does not support item assignment"
     ]
    }
   ],
   "source": [
    "tuple_name[0] = 'mm'"
   ]
  },
  {
   "cell_type": "code",
   "execution_count": 3,
   "id": "f8fb3bd6",
   "metadata": {},
   "outputs": [
    {
     "name": "stdout",
     "output_type": "stream",
     "text": [
      "sdf\n",
      "23\n",
      "True\n",
      "False\n",
      "male\n",
      "female\n"
     ]
    }
   ],
   "source": [
    "my_tuple = (\"sdf\", 23, True, False, \"male\", \"female\")\n",
    "\n",
    "for a in my_tuple:\n",
    "    print(a)"
   ]
  },
  {
   "cell_type": "code",
   "execution_count": 4,
   "id": "e15bd0d8",
   "metadata": {},
   "outputs": [
    {
     "name": "stdout",
     "output_type": "stream",
     "text": [
      "world\n",
      "('world', ' india')\n"
     ]
    }
   ],
   "source": [
    "x = ( \"hello\", \"world\", \" india\")\n",
    "print(x[-2])\n",
    "print(x[1:])"
   ]
  },
  {
   "cell_type": "code",
   "execution_count": null,
   "id": "963e9157",
   "metadata": {},
   "outputs": [],
   "source": [
    "'''\n",
    "Dictionary\n",
    "In Python, a dictionary is another of the important data types, \n",
    "similar to a list, in the sense that it \n",
    "is also a collection of objects. It stores the data in unordered \n",
    "{key-value} pairs; a key must be of a \n",
    "hashable and immutable data type, and value can be any arbitrary \n",
    "Python object. In this context, \n",
    "an object is hashable if it has a hash value that does not change \n",
    "during its lifetime in the program. \n",
    "'''"
   ]
  },
  {
   "cell_type": "code",
   "execution_count": 9,
   "id": "4d996c5d",
   "metadata": {},
   "outputs": [
    {
     "name": "stdout",
     "output_type": "stream",
     "text": [
      "language\n",
      "True\n"
     ]
    }
   ],
   "source": [
    "my_dict = {1: 'data', \n",
    " 2: 'structure', \n",
    " 3: 'python', \n",
    " 4: 'programming', \n",
    " 5: 'language'\n",
    " }\n",
    "\n",
    "print(my_dict[5])\n",
    "print('bird' not in my_dict)"
   ]
  },
  {
   "cell_type": "code",
   "execution_count": 10,
   "id": "7ca9b041",
   "metadata": {},
   "outputs": [
    {
     "name": "stdout",
     "output_type": "stream",
     "text": [
      "[1, 2, 3, 4, 5]\n"
     ]
    }
   ],
   "source": [
    "print(list(my_dict.keys()))"
   ]
  },
  {
   "cell_type": "code",
   "execution_count": 11,
   "id": "ca8b1e3f",
   "metadata": {},
   "outputs": [
    {
     "name": "stdout",
     "output_type": "stream",
     "text": [
      "['data', 'structure', 'python', 'programming', 'language']\n"
     ]
    }
   ],
   "source": [
    "print(list(my_dict.values()))"
   ]
  },
  {
   "cell_type": "code",
   "execution_count": 13,
   "id": "4be1b58b",
   "metadata": {},
   "outputs": [
    {
     "data": {
      "text/plain": [
       "'language'"
      ]
     },
     "execution_count": 13,
     "metadata": {},
     "output_type": "execute_result"
    }
   ],
   "source": [
    "my_dict.pop(5)"
   ]
  },
  {
   "cell_type": "code",
   "execution_count": 14,
   "id": "86f015e5",
   "metadata": {},
   "outputs": [
    {
     "name": "stdout",
     "output_type": "stream",
     "text": [
      "{1: 'data', 2: 'structure', 3: 'python', 4: 'programming'}\n"
     ]
    }
   ],
   "source": [
    "print(my_dict)"
   ]
  },
  {
   "cell_type": "code",
   "execution_count": 15,
   "id": "270f5e29",
   "metadata": {},
   "outputs": [
    {
     "name": "stdout",
     "output_type": "stream",
     "text": [
      "{1: 'data', 2: 'structure', 3: 'bird', 4: 'programming'}\n"
     ]
    }
   ],
   "source": [
    "d2 = {3: 'bird'}\n",
    "my_dict.update(d2)\n",
    "print(my_dict)"
   ]
  },
  {
   "cell_type": "code",
   "execution_count": null,
   "id": "027c49ac",
   "metadata": {},
   "outputs": [],
   "source": [
    "'''\n",
    "SETS\n",
    "\n",
    " set is an unordered collection of hashable objects. It is iterable, \n",
    " mutable, and has unique elements. \n",
    "The order of the elements is also not defined. While the addition and \n",
    "removal of items are allowed, \n",
    "the items themselves within the set must be immutable and hashable. Sets \n",
    "support membership \n",
    "testing operators (in, not in), and operations such as intersection, union,\n",
    "difference, and \n",
    "symmetric difference. Sets cannot contain duplicate items. They are created\n",
    "by using the built-in \n",
    "set() function or curly braces {}. A set() returns a set object from an\n",
    "iterable. \n",
    "'''"
   ]
  },
  {
   "cell_type": "code",
   "execution_count": 16,
   "id": "c19ae251",
   "metadata": {},
   "outputs": [
    {
     "name": "stdout",
     "output_type": "stream",
     "text": [
      "{'structure', 'and', 'python', 'data'}\n",
      "<class 'set'>\n"
     ]
    }
   ],
   "source": [
    "x1 = set(['and', 'python', 'data', 'structure'])\n",
    "print(x1)\n",
    "print(type(x1))"
   ]
  },
  {
   "cell_type": "code",
   "execution_count": 23,
   "id": "73804be2",
   "metadata": {},
   "outputs": [],
   "source": [
    "x1 = {'data', 'structure'}\n",
    "x2 = {'python', 'java', 'c', 'data', 'data', 'bob'}"
   ]
  },
  {
   "cell_type": "code",
   "execution_count": 24,
   "id": "7b4254f0",
   "metadata": {},
   "outputs": [
    {
     "name": "stdout",
     "output_type": "stream",
     "text": [
      "{'structure', 'data'}\n"
     ]
    }
   ],
   "source": [
    "print(x1)"
   ]
  },
  {
   "cell_type": "code",
   "execution_count": 27,
   "id": "b2ea7c1e",
   "metadata": {},
   "outputs": [
    {
     "name": "stdout",
     "output_type": "stream",
     "text": [
      "{'bob', 'java', 'structure', 'c', 'python', 'data'}\n"
     ]
    }
   ],
   "source": [
    "print(x1.union(x2))"
   ]
  },
  {
   "cell_type": "code",
   "execution_count": 28,
   "id": "02f0dee9",
   "metadata": {},
   "outputs": [
    {
     "name": "stdout",
     "output_type": "stream",
     "text": [
      "frozenset({'structure', 'and', 'data'})\n"
     ]
    }
   ],
   "source": [
    "#immutable sets\n",
    "x = frozenset(['data', 'structure', 'and'])\n",
    "print(x)"
   ]
  },
  {
   "cell_type": "code",
   "execution_count": null,
   "id": "e2f6864b",
   "metadata": {},
   "outputs": [],
   "source": [
    "#Collections\n",
    "'''\n",
    "namedtuple: Creates a tuple with named fields similar to regular tuples.\n",
    "\n",
    "deque: Doubly-linked lists that provide efficient adding and removing of \n",
    "items from both ends of the list.\n",
    "\n",
    "defaultdict: A dictionary subclass that returns default values for missing\n",
    "keys.\n",
    "\n",
    "ChainMap: A dictionary that merges multiple dictionaries.\n",
    "\n",
    "Counter: A dictionary that returns the counts corresponding to their \n",
    "objects/key.\n",
    "\n",
    "UserDict UserList/UserString: These data types are used to add more\n",
    "functionalities to their base data \n",
    "structure, such as a dictionary, list, and string. And we can create \n",
    "subclasses from them for custom dict/list/string\n",
    "\n",
    "'''"
   ]
  },
  {
   "cell_type": "code",
   "execution_count": null,
   "id": "34054074",
   "metadata": {},
   "outputs": [],
   "source": [
    "#Deque\n",
    "'''\n",
    "A deque is a double-ended queue (deque) that supports append and pop \n",
    "elements from both sides \n",
    "of the list. Deques are implemented as double-linked lists, which are\n",
    "very efficient for inserting \n",
    "and deleting elements in O(1) time complexity\n",
    "'''"
   ]
  },
  {
   "cell_type": "code",
   "execution_count": 29,
   "id": "29be8a52",
   "metadata": {},
   "outputs": [
    {
     "name": "stdout",
     "output_type": "stream",
     "text": [
      "deque([])\n"
     ]
    }
   ],
   "source": [
    "from collections import deque\n",
    "s = deque()  # creates an empty deque\n",
    "print(s)"
   ]
  },
  {
   "cell_type": "code",
   "execution_count": 30,
   "id": "e1018d7a",
   "metadata": {},
   "outputs": [
    {
     "name": "stdout",
     "output_type": "stream",
     "text": [
      "deque([1, 2, 'name'])\n"
     ]
    }
   ],
   "source": [
    "my_queue = deque([1,2, 'name'])\n",
    "print(my_queue)"
   ]
  },
  {
   "cell_type": "code",
   "execution_count": 31,
   "id": "8d5ec3ab",
   "metadata": {},
   "outputs": [
    {
     "name": "stdout",
     "output_type": "stream",
     "text": [
      "deque([1, 2, 'name', 'age'])\n"
     ]
    }
   ],
   "source": [
    "my_queue.append('age')\n",
    "print(my_queue)"
   ]
  },
  {
   "cell_type": "code",
   "execution_count": 32,
   "id": "4698896c",
   "metadata": {},
   "outputs": [
    {
     "name": "stdout",
     "output_type": "stream",
     "text": [
      "deque(['age', 1, 2, 'name', 'age'])\n"
     ]
    }
   ],
   "source": [
    "my_queue.appendleft('age')\n",
    "print(my_queue)"
   ]
  },
  {
   "cell_type": "code",
   "execution_count": 33,
   "id": "36140b77",
   "metadata": {},
   "outputs": [
    {
     "name": "stdout",
     "output_type": "stream",
     "text": [
      "deque(['age', 1, 2, 'name'])\n"
     ]
    }
   ],
   "source": [
    "my_queue.pop() #remove last value on right side\n",
    "print(my_queue)"
   ]
  },
  {
   "cell_type": "code",
   "execution_count": 34,
   "id": "02a89c95",
   "metadata": {},
   "outputs": [
    {
     "name": "stdout",
     "output_type": "stream",
     "text": [
      "deque([1, 2, 'name'])\n"
     ]
    }
   ],
   "source": [
    "my_queue.popleft() #remove first value on left side\n",
    "print(my_queue)"
   ]
  },
  {
   "cell_type": "code",
   "execution_count": 35,
   "id": "058a42fb",
   "metadata": {},
   "outputs": [
    {
     "name": "stdout",
     "output_type": "stream",
     "text": [
      "deque([2, 'name'])\n"
     ]
    }
   ],
   "source": [
    "my_queue.popleft() #remove first value on left side\n",
    "print(my_queue)"
   ]
  },
  {
   "cell_type": "code",
   "execution_count": 36,
   "id": "4e14dd98",
   "metadata": {},
   "outputs": [
    {
     "name": "stdout",
     "output_type": "stream",
     "text": [
      "deque(['name'])\n"
     ]
    }
   ],
   "source": [
    "my_queue.popleft() #remove first value on left side\n",
    "print(my_queue)"
   ]
  },
  {
   "cell_type": "code",
   "execution_count": 37,
   "id": "4343d032",
   "metadata": {},
   "outputs": [
    {
     "name": "stdout",
     "output_type": "stream",
     "text": [
      "deque([])\n"
     ]
    }
   ],
   "source": [
    "my_queue.popleft() #remove first value on left side\n",
    "print(my_queue)"
   ]
  },
  {
   "cell_type": "code",
   "execution_count": 38,
   "id": "0d242792",
   "metadata": {},
   "outputs": [
    {
     "ename": "IndexError",
     "evalue": "pop from an empty deque",
     "output_type": "error",
     "traceback": [
      "\u001b[1;31m---------------------------------------------------------------------------\u001b[0m",
      "\u001b[1;31mIndexError\u001b[0m                                Traceback (most recent call last)",
      "\u001b[1;32m~\\AppData\\Local\\Temp\\ipykernel_22780\\1497685701.py\u001b[0m in \u001b[0;36m<module>\u001b[1;34m\u001b[0m\n\u001b[1;32m----> 1\u001b[1;33m \u001b[0mmy_queue\u001b[0m\u001b[1;33m.\u001b[0m\u001b[0mpopleft\u001b[0m\u001b[1;33m(\u001b[0m\u001b[1;33m)\u001b[0m \u001b[1;31m#remove first value on left side\u001b[0m\u001b[1;33m\u001b[0m\u001b[1;33m\u001b[0m\u001b[0m\n\u001b[0m\u001b[0;32m      2\u001b[0m \u001b[0mprint\u001b[0m\u001b[1;33m(\u001b[0m\u001b[0mmy_queue\u001b[0m\u001b[1;33m)\u001b[0m\u001b[1;33m\u001b[0m\u001b[1;33m\u001b[0m\u001b[0m\n",
      "\u001b[1;31mIndexError\u001b[0m: pop from an empty deque"
     ]
    }
   ],
   "source": [
    "my_queue.popleft() #remove first value on left side\n",
    "print(my_queue)"
   ]
  },
  {
   "cell_type": "code",
   "execution_count": null,
   "id": "ba829106",
   "metadata": {},
   "outputs": [],
   "source": []
  }
 ],
 "metadata": {
  "kernelspec": {
   "display_name": "Python 3 (ipykernel)",
   "language": "python",
   "name": "python3"
  },
  "language_info": {
   "codemirror_mode": {
    "name": "ipython",
    "version": 3
   },
   "file_extension": ".py",
   "mimetype": "text/x-python",
   "name": "python",
   "nbconvert_exporter": "python",
   "pygments_lexer": "ipython3",
   "version": "3.9.13"
  }
 },
 "nbformat": 4,
 "nbformat_minor": 5
}
