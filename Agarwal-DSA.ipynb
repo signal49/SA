{
 "cells": [
  {
   "cell_type": "code",
   "execution_count": null,
   "id": "2b3c5cde",
   "metadata": {},
   "outputs": [],
   "source": [
    "#Chap1 - Data Types and Structures"
   ]
  },
  {
   "cell_type": "code",
   "execution_count": 1,
   "id": "db57c3a4",
   "metadata": {},
   "outputs": [
    {
     "name": "stdout",
     "output_type": "stream",
     "text": [
      "<class 'bool'>\n"
     ]
    }
   ],
   "source": [
    "print(type(bool(22)))"
   ]
  },
  {
   "cell_type": "code",
   "execution_count": 3,
   "id": "09058cbd",
   "metadata": {},
   "outputs": [
    {
     "name": "stdout",
     "output_type": "stream",
     "text": [
      "<class 'bool'>\n",
      "<class 'bool'>\n"
     ]
    }
   ],
   "source": [
    "print(type(True))\n",
    "print(type(False))"
   ]
  },
  {
   "cell_type": "code",
   "execution_count": 4,
   "id": "8a7bc2cc",
   "metadata": {},
   "outputs": [
    {
     "name": "stdout",
     "output_type": "stream",
     "text": [
      "<class 'float'>\n"
     ]
    }
   ],
   "source": [
    "var = 3.2\n",
    "print(type(var))"
   ]
  },
  {
   "cell_type": "code",
   "execution_count": 5,
   "id": "173dab89",
   "metadata": {},
   "outputs": [
    {
     "name": "stdout",
     "output_type": "stream",
     "text": [
      "<class 'str'>\n"
     ]
    }
   ],
   "source": [
    "var2 = \"yoo\"\n",
    "print(type(var2))"
   ]
  },
  {
   "cell_type": "code",
   "execution_count": 8,
   "id": "234627ff",
   "metadata": {},
   "outputs": [
    {
     "name": "stdout",
     "output_type": "stream",
     "text": [
      "data structure\n"
     ]
    }
   ],
   "source": [
    "f = 'data'\n",
    "s = ' structure'\n",
    "print(f + s)"
   ]
  },
  {
   "cell_type": "code",
   "execution_count": 9,
   "id": "5e12391d",
   "metadata": {},
   "outputs": [
    {
     "name": "stdout",
     "output_type": "stream",
     "text": [
      "[0, 1, 2, 3, 4, 5, 6, 7, 8, 9]\n"
     ]
    }
   ],
   "source": [
    "#range(start, stop, step)\n",
    "'''\n",
    "The range data type represents an immutable sequence of numbers. It is mainly \n",
    "used in for and while loops. It returns a sequence of numbers starting from \n",
    "a given number up to a number\n",
    "specified by the function argument. It is used as in the following\n",
    "'''\n",
    "print(list(range(10)))"
   ]
  },
  {
   "cell_type": "code",
   "execution_count": 11,
   "id": "8776eaa7",
   "metadata": {},
   "outputs": [
    {
     "name": "stdout",
     "output_type": "stream",
     "text": [
      "[1, 2, 3, 4, 5, 6, 7, 8, 9, 10]\n"
     ]
    }
   ],
   "source": [
    "print(list(range(1,10+1,1)))"
   ]
  },
  {
   "cell_type": "code",
   "execution_count": 12,
   "id": "2d38f39f",
   "metadata": {},
   "outputs": [
    {
     "name": "stdout",
     "output_type": "stream",
     "text": [
      "[20, 18, 16, 14, 12]\n"
     ]
    }
   ],
   "source": [
    "print(list(range(20,10,-2)))"
   ]
  },
  {
   "cell_type": "code",
   "execution_count": null,
   "id": "b2dff2ee",
   "metadata": {},
   "outputs": [],
   "source": [
    "'''\n",
    "Lists\n",
    "Python lists are used to store multiple items in a single variable. Duplicate\n",
    "values are allowed in a list, and elements can be of different types: \n",
    "for example, you can have both numeric and string\n",
    "data in a Python list.\n",
    "'''"
   ]
  },
  {
   "cell_type": "code",
   "execution_count": 13,
   "id": "3d850853",
   "metadata": {},
   "outputs": [
    {
     "name": "stdout",
     "output_type": "stream",
     "text": [
      "['food', 'bus', 'apple', 'queen']\n",
      "India\n"
     ]
    }
   ],
   "source": [
    "a = ['food', 'bus', 'apple', 'queen']\n",
    "print(a)\n",
    "mylist = [10, \"India\", \"world\", 8]\n",
    "# accessing elements in list.\n",
    "print(mylist[1])"
   ]
  },
  {
   "cell_type": "code",
   "execution_count": 14,
   "id": "2b403c19",
   "metadata": {},
   "outputs": [
    {
     "name": "stdout",
     "output_type": "stream",
     "text": [
      "['data', 'and', 'book', 'structure', 'hello', 'st', 32]\n",
      "['data', 'and', 'structure', 'hello', 'st', 32]\n",
      "['and', 'structure', 'hello', 'st', 32]\n"
     ]
    }
   ],
   "source": [
    "b = ['data', 'and', 'book',\n",
    "'structure', 'hello', 'st']\n",
    "b += [32]\n",
    "print(b)\n",
    "b[2:3] = []\n",
    "print(b)\n",
    "del b[0]\n",
    "print(b)"
   ]
  },
  {
   "cell_type": "code",
   "execution_count": 15,
   "id": "c8a5b59d",
   "metadata": {},
   "outputs": [
    {
     "name": "stdout",
     "output_type": "stream",
     "text": [
      "data\n",
      "using\n",
      "learning\n",
      "structures\n",
      "['structures', 'using', 'python', 'happy']\n",
      "['python', 'happy']\n"
     ]
    }
   ],
   "source": [
    "a = ['data', 'structures',\n",
    "'using', 'python', 'happy',\n",
    "'learning']\n",
    "print(a[0])\n",
    "print(a[2])\n",
    "print(a[-1])\n",
    "print(a[-5])\n",
    "print(a[1:5])\n",
    "print(a[-3:-1])"
   ]
  },
  {
   "cell_type": "code",
   "execution_count": 16,
   "id": "fcc644b5",
   "metadata": {},
   "outputs": [
    {
     "name": "stdout",
     "output_type": "stream",
     "text": [
      "elements are not overlapping\n"
     ]
    }
   ],
   "source": [
    "mylist1 = [100,20,30,40]\n",
    "mylist2 = [10,50,60,90]\n",
    "if mylist1[1] in mylist2:\n",
    "    print(\"elements are overlapping\")\n",
    "else:\n",
    "    print(\"elements are not overlapping\")"
   ]
  },
  {
   "cell_type": "code",
   "execution_count": 17,
   "id": "453050e8",
   "metadata": {},
   "outputs": [
    {
     "name": "stdout",
     "output_type": "stream",
     "text": [
      "yoo, it's here\n"
     ]
    }
   ],
   "source": [
    "val = 104\n",
    "mylist = [100,104, 234]\n",
    "if val in mylist:\n",
    "    print(\"yoo, it's here\")\n",
    "else:\n",
    "    print(\"found nothing\")"
   ]
  },
  {
   "cell_type": "code",
   "execution_count": 19,
   "id": "46e183b2",
   "metadata": {},
   "outputs": [
    {
     "name": "stdout",
     "output_type": "stream",
     "text": [
      "Both are equal\n",
      "Both variables are not pointing to the same object\n",
      "Both are not pointing to the same object\n"
     ]
    }
   ],
   "source": [
    "Firstlist = []\n",
    "Secondlist = []\n",
    "\n",
    "if Firstlist == Secondlist:\n",
    "    print(\"Both are equal\")\n",
    "else:\n",
    "    print(\"Both are not equal\")\n",
    "\n",
    "if Firstlist is Secondlist:\n",
    "    print(\"Both variables are pointing to the same object\")\n",
    "else:\n",
    "    print(\"Both variables are not pointing to the same object\")\n",
    "\n",
    "    thirdList = Firstlist\n",
    "\n",
    "if thirdList is Secondlist:\n",
    "    print(\"Both are pointing to the same object\")\n",
    "else:\n",
    "    print(\"Both are not pointing to the same object\")"
   ]
  },
  {
   "cell_type": "code",
   "execution_count": 20,
   "id": "9dc3c95e",
   "metadata": {},
   "outputs": [
    {
     "name": "stdout",
     "output_type": "stream",
     "text": [
      "Both Firstlist and Secondlist variables are the same object\n"
     ]
    }
   ],
   "source": [
    "Firstlist = []\n",
    "Secondlist = []\n",
    "if Firstlist is not Secondlist:\n",
    "    print(\"Both Firstlist and Secondlist variables are the same object\")\n",
    "else:\n",
    "    print(\"Both Firstlist and Secondlist variables are not the same object\")"
   ]
  },
  {
   "cell_type": "code",
   "execution_count": 21,
   "id": "404c6b74",
   "metadata": {},
   "outputs": [
    {
     "name": "stdout",
     "output_type": "stream",
     "text": [
      "Both a and b are greater than zero\n"
     ]
    }
   ],
   "source": [
    "a = 32\n",
    "b = 132\n",
    "if a > 0 and b > 0:\n",
    "    print(\"Both a and b are greater than zero\")\n",
    "else:\n",
    "    print(\"At least one variable is less than 0\")"
   ]
  },
  {
   "cell_type": "code",
   "execution_count": null,
   "id": "8b6d7714",
   "metadata": {},
   "outputs": [],
   "source": [
    "'''\n",
    "Tuples are used to store multiple items in a single variable. It is a read-only \n",
    "collection where\n",
    "data is ordered (zero-based indexing) and unchangeable/immutable (items cannot \n",
    "be added,\n",
    "modified, removed). Duplicate values are allowed in a tuple, and elements can \n",
    "be of different\n",
    "types, similar to lists. Tuples are used instead of lists when we wish to store \n",
    "the data that should\n",
    "not be changed in the program.\n",
    "'''"
   ]
  },
  {
   "cell_type": "code",
   "execution_count": 22,
   "id": "e3da765b",
   "metadata": {},
   "outputs": [
    {
     "name": "stdout",
     "output_type": "stream",
     "text": [
      "('yoo', 'bro')\n"
     ]
    }
   ],
   "source": [
    "tuple_name = ('yoo', 'bro')\n",
    "print(tuple_name)"
   ]
  },
  {
   "cell_type": "code",
   "execution_count": 23,
   "id": "8fedeb67",
   "metadata": {},
   "outputs": [
    {
     "ename": "TypeError",
     "evalue": "'tuple' object does not support item assignment",
     "output_type": "error",
     "traceback": [
      "\u001b[1;31m---------------------------------------------------------------------------\u001b[0m",
      "\u001b[1;31mTypeError\u001b[0m                                 Traceback (most recent call last)",
      "Cell \u001b[1;32mIn[23], line 1\u001b[0m\n\u001b[1;32m----> 1\u001b[0m tuple_name[\u001b[38;5;241m0\u001b[39m] \u001b[38;5;241m=\u001b[39m \u001b[38;5;124m'\u001b[39m\u001b[38;5;124mmm\u001b[39m\u001b[38;5;124m'\u001b[39m\n",
      "\u001b[1;31mTypeError\u001b[0m: 'tuple' object does not support item assignment"
     ]
    }
   ],
   "source": [
    "tuple_name[0] = 'mm'"
   ]
  },
  {
   "cell_type": "code",
   "execution_count": null,
   "id": "f8fb3bd6",
   "metadata": {},
   "outputs": [],
   "source": []
  }
 ],
 "metadata": {
  "kernelspec": {
   "display_name": "Python 3 (ipykernel)",
   "language": "python",
   "name": "python3"
  },
  "language_info": {
   "codemirror_mode": {
    "name": "ipython",
    "version": 3
   },
   "file_extension": ".py",
   "mimetype": "text/x-python",
   "name": "python",
   "nbconvert_exporter": "python",
   "pygments_lexer": "ipython3",
   "version": "3.11.5"
  }
 },
 "nbformat": 4,
 "nbformat_minor": 5
}
