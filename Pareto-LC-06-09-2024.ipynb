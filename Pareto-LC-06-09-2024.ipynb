{
 "cells": [
  {
   "cell_type": "code",
   "execution_count": null,
   "id": "a70ebccc",
   "metadata": {},
   "outputs": [],
   "source": [
    "#Pareto Leetcode List-49 questions\n",
    "###https://www.youtube.com/@AmanManazir\n",
    "#https://github.com/neetcode-gh/leetcode/tree/main/python\n",
    "#217\tContains Duplicate\n",
    "#242\tValid Anagram\n",
    "#1\tTwo Sum\n",
    "#49\tGroup Anagrams\n",
    "#347\tTop K Frequent Elements\n",
    "#36\tValid Sudoku\n",
    "#238\tProduct of Array Except Self\n",
    "#128\tLongest Consecutive Sequence\n",
    "#125\tValid Palindrome\n",
    "#167\tTwo Sum II Input Array Is Sorted\n",
    "#####\n",
    "#15\t3Sum\n",
    "#11\tContainer With Most Water\n",
    "#121\tBest Time to Buy And Sell Stock\n",
    "#3\tLongest Substring Without Repeating Characters\n",
    "#424\tLongest Repeating Character Replacement\n",
    "#20\tValid Parentheses\n",
    "#155\tMin Stack\n",
    "#739\tDaily Temperatures\n",
    "#704\tBinary Search\n",
    "#153\tFind Minimum In Rotated Sorted Array\n",
    "#################\n",
    "#33\tSearch In Rotated Sorted Array\n",
    "#206\tReverse Linked List\n",
    "#21\tMerge Two Sorted Lists\n",
    "#143\tReorder List\n",
    "#19\tRemove Nth Node From End of List\n",
    "#141\tLinked List Cycle\n",
    "#146\tLRU Cache\n",
    "#226\tInvert Binary Tree\n",
    "#104\tMaximum Depth of Binary Tree\n",
    "#543\tDiameter of Binary Tree\n",
    "#############\n",
    "#110\tBalanced Binary Tree\n",
    "#100\tSame Tree\n",
    "#572\tSubtree of Another Tree\n",
    "#235\tLowest Common Ancester of a Binary Search Tree\n",
    "#102\tBinary Tree Level Order Traversal\n",
    "#199\tBinary Tree Right Side View\n",
    "#1448\tCount Good Nodes In Binary Tree\n",
    "#98\tValidate Binary Search Tree\n",
    "#230\tKth Smallest Element In a BST\n",
    "#703\tKth Largest Element In a Stream\n",
    "#########\n",
    "#1046\tLast Stone Weight\n",
    "#215\tKth Largest Element In An Array\n",
    "#200\tNumber of Islands\n",
    "#695\tMax Area of Island\n",
    "#133\tClone Graph\n",
    "#417\tPacific Atlantic Water Flow\n",
    "#130\tSurrounded Regions\n",
    "#207\tCourse Schedule\n",
    "#210\tCourse Schedule II\n",
    "\n",
    "#nums = (1,2,23,5)\n",
    "#for i, n in enumerate(nums):\n",
    "#    print(i, n)\n",
    "######\n",
    "#for i in range(10):\n",
    "#    print(i)"
   ]
  },
  {
   "cell_type": "code",
   "execution_count": 2,
   "id": "cf001bb8",
   "metadata": {},
   "outputs": [
    {
     "name": "stdout",
     "output_type": "stream",
     "text": [
      "True\n"
     ]
    }
   ],
   "source": [
    "#217\tContains Duplicate\n",
    "#Time Complexity(TC): O(n)\n",
    "#Space Complexity(SC): O(n)\n",
    "class Solution:\n",
    "    def containsDuplicate(self, nums) -> bool:\n",
    "        hashset = set()\n",
    "\n",
    "        for n in nums:\n",
    "            if n in hashset:\n",
    "                return True\n",
    "            hashset.add(n)\n",
    "        return False\n",
    "\n",
    "if __name__ == \"__main__\":\n",
    "\n",
    "    myInput = [1,2,3,3,2]\n",
    "    #Output: True\n",
    "\n",
    "    s217 = Solution()\n",
    "    print(s217.containsDuplicate(myInput))\n",
    "    \n",
    "\n"
   ]
  },
  {
   "cell_type": "code",
   "execution_count": 17,
   "id": "bf9fcd7b",
   "metadata": {},
   "outputs": [
    {
     "name": "stdout",
     "output_type": "stream",
     "text": [
      "True\n"
     ]
    }
   ],
   "source": [
    "#242\tValid Anagram\n",
    "#Time Complexity(TC): O(n)\n",
    "#Space Complexity(SC): O(n)\n",
    "class Solution:\n",
    "    def isAnagram(self, s, t):\n",
    "        if len(s) != len(t):\n",
    "            return False\n",
    "        countS, countT = {}, {}\n",
    "        \n",
    "        for i in range(len(s)):\n",
    "            countS[s[i]] = 1 +countS.get(s[i], 0)#i is position number\n",
    "            countT[t[i]] = 1 +countT.get(t[i], 0)\n",
    "        return countS == countT\n",
    "        \n",
    "s242 = Solution()\n",
    "print(s242.isAnagram('moo','oom'))\n"
   ]
  },
  {
   "cell_type": "code",
   "execution_count": 12,
   "id": "ca94c093",
   "metadata": {},
   "outputs": [
    {
     "name": "stdout",
     "output_type": "stream",
     "text": [
      "[1, 3]\n"
     ]
    }
   ],
   "source": [
    "#1\tTwo Sum\n",
    "#Time Complexity(TC): O(n)\n",
    "#Space Complexity(SC): O(n)\n",
    "\n",
    "class Solution:\n",
    "    def twoSum(self, nums, target):\n",
    "        prevMap =  {} #val: index\n",
    "        \n",
    "        for i, n in enumerate(nums):\n",
    "            diff = target - n\n",
    "            if diff in prevMap:\n",
    "                return [prevMap[diff], i]\n",
    "            prevMap[n] = i\n",
    "        return\n",
    "        \n",
    "    \n",
    "s1 = Solution()\n",
    "print(s1.twoSum((1,2,3,4), 6))"
   ]
  },
  {
   "cell_type": "code",
   "execution_count": 22,
   "id": "b7281725",
   "metadata": {},
   "outputs": [
    {
     "name": "stdout",
     "output_type": "stream",
     "text": [
      "dict_values([['ear'], ['tea', 'ate'], ['tan', 'nat'], ['bat']])\n"
     ]
    }
   ],
   "source": [
    "#49\tGroup Anagrams\n",
    "import collections\n",
    "class Solution:\n",
    "    def groupAnagrams(self, strs):\n",
    "        ans = collections.defaultdict(list)\n",
    "\n",
    "        for s in strs:\n",
    "            count = [0] * 26\n",
    "            for c in s:\n",
    "                count[ord(c) - ord(\"a\")] += 1\n",
    "            ans[tuple(count)].append(s)\n",
    "        return ans.values()\n",
    "    \n",
    "s49 = Solution()\n",
    "print(s49.groupAnagrams([\"ear\", \"tea\", \"tan\", \"ate\", \"nat\", \"bat\"]))"
   ]
  },
  {
   "cell_type": "code",
   "execution_count": 19,
   "id": "283c70e9",
   "metadata": {},
   "outputs": [
    {
     "name": "stdout",
     "output_type": "stream",
     "text": [
      "0\n",
      "1\n",
      "2\n",
      "3\n",
      "4\n",
      "5\n",
      "6\n",
      "7\n",
      "8\n",
      "9\n"
     ]
    }
   ],
   "source": []
  },
  {
   "cell_type": "code",
   "execution_count": null,
   "id": "174fc314",
   "metadata": {},
   "outputs": [],
   "source": []
  }
 ],
 "metadata": {
  "kernelspec": {
   "display_name": "Python 3 (ipykernel)",
   "language": "python",
   "name": "python3"
  },
  "language_info": {
   "codemirror_mode": {
    "name": "ipython",
    "version": 3
   },
   "file_extension": ".py",
   "mimetype": "text/x-python",
   "name": "python",
   "nbconvert_exporter": "python",
   "pygments_lexer": "ipython3",
   "version": "3.11.5"
  }
 },
 "nbformat": 4,
 "nbformat_minor": 5
}
